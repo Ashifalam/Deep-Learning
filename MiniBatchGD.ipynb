{
 "cells": [
  {
   "cell_type": "code",
   "execution_count": 53,
   "id": "c2f1e923",
   "metadata": {},
   "outputs": [],
   "source": [
    "from sklearn.datasets import load_diabetes\n",
    "import numpy as np\n",
    "from sklearn.linear_model import LinearRegression\n",
    "from sklearn.metrics import r2_score\n",
    "from sklearn.model_selection import train_test_split\n",
    "import time"
   ]
  },
  {
   "cell_type": "code",
   "execution_count": 54,
   "id": "63533f33",
   "metadata": {},
   "outputs": [],
   "source": [
    "X,y=load_diabetes(return_X_y=True)"
   ]
  },
  {
   "cell_type": "code",
   "execution_count": 55,
   "id": "687f2656",
   "metadata": {},
   "outputs": [
    {
     "name": "stdout",
     "output_type": "stream",
     "text": [
      "(442, 10)\n",
      "(442,)\n"
     ]
    }
   ],
   "source": [
    "print(X.shape)\n",
    "print(y.shape)"
   ]
  },
  {
   "cell_type": "code",
   "execution_count": 56,
   "id": "93170d25",
   "metadata": {},
   "outputs": [],
   "source": [
    "X_train,X_test,y_train,y_test=train_test_split(X,y,test_size=0.2,random_state=2)"
   ]
  },
  {
   "cell_type": "code",
   "execution_count": 57,
   "id": "1c6287a6",
   "metadata": {},
   "outputs": [
    {
     "data": {
      "text/plain": [
       "LinearRegression()"
      ]
     },
     "execution_count": 57,
     "metadata": {},
     "output_type": "execute_result"
    }
   ],
   "source": [
    "reg=LinearRegression()\n",
    "reg.fit(X_train,y_train)"
   ]
  },
  {
   "cell_type": "code",
   "execution_count": 58,
   "id": "eb69e52c",
   "metadata": {},
   "outputs": [
    {
     "name": "stdout",
     "output_type": "stream",
     "text": [
      "[  -9.16088483 -205.46225988  516.68462383  340.62734108 -895.54360867\n",
      "  561.21453306  153.88478595  126.73431596  861.12139955   52.41982836]\n",
      "151.88334520854633\n"
     ]
    }
   ],
   "source": [
    "print(reg.coef_)\n",
    "print(reg.intercept_)"
   ]
  },
  {
   "cell_type": "code",
   "execution_count": 59,
   "id": "37f44737",
   "metadata": {},
   "outputs": [
    {
     "data": {
      "text/plain": [
       "0.4399387660024644"
      ]
     },
     "execution_count": 59,
     "metadata": {},
     "output_type": "execute_result"
    }
   ],
   "source": [
    "y_pred=reg.predict(X_test)\n",
    "r2_score(y_test,y_pred)"
   ]
  },
  {
   "cell_type": "code",
   "execution_count": 70,
   "id": "3124267d",
   "metadata": {},
   "outputs": [],
   "source": [
    "import random\n",
    "class MBGDRegressor:\n",
    "    def __init__(self,batch_size,learning_rate=0.01,epochs=100):\n",
    "        self.coef_=None\n",
    "        self.intercept_=None\n",
    "        self.lr=learning_rate\n",
    "        self.epochs=epochs\n",
    "        self.batch_size=batch_size\n",
    "    def fit(self,X_train,y_train):\n",
    "        #initialize your coeff and intercept\n",
    "        self.intercept_=0\n",
    "        self.coef_=np.ones(X_train.shape[1])\n",
    "        for i in range(self.epochs):\n",
    "            for j in range(int(X_train.shape[0]/self.batch_size)):\n",
    "                \n",
    "                idx=random.sample(range(X_train.shape[0]),self.batch_size)\n",
    "             # update intercept and coeff\n",
    "                y_hat=self.intercept_+np.dot(X_train[idx],self.coef_)\n",
    "                \n",
    "                intercept_der=-2*np.mean(y_train[idx]-y_hat)\n",
    "                \n",
    "                self.intercept_=self.intercept_-(self.lr*intercept_der)\n",
    "            \n",
    "                coef_der=-2*np.dot((y_train[idx]-y_hat),X_train[idx])\n",
    "                self.coef_=self.coef_-(self.lr*coef_der)\n",
    "    \n",
    "        print(self.intercept_)\n",
    "        print(self.coef_)  \n",
    "    def predict(self,X_test):\n",
    "        return np.dot(X_test,self.coef_)+self.intercept_\n",
    "        \n",
    "        "
   ]
  },
  {
   "cell_type": "code",
   "execution_count": 71,
   "id": "de6d8640",
   "metadata": {},
   "outputs": [],
   "source": [
    "mbgd=MBGDRegressor(batch_size=int(X_train.shape[0]/10),learning_rate=0.01,epochs=50)"
   ]
  },
  {
   "cell_type": "code",
   "execution_count": 72,
   "id": "b954debe",
   "metadata": {},
   "outputs": [
    {
     "name": "stdout",
     "output_type": "stream",
     "text": [
      "153.74807144903536\n",
      "[  50.94943734  -77.2638706   356.73608002  252.08384204   17.83410191\n",
      "  -23.86440338 -171.69287508  129.36548198  315.49176658  135.62634516]\n"
     ]
    }
   ],
   "source": [
    "mbgd.fit(X_train,y_train)"
   ]
  },
  {
   "cell_type": "code",
   "execution_count": 75,
   "id": "2e80f7b9",
   "metadata": {},
   "outputs": [],
   "source": [
    "y_pred=mbgd.predict(X_test)"
   ]
  },
  {
   "cell_type": "code",
   "execution_count": 76,
   "id": "ba4c1366",
   "metadata": {},
   "outputs": [
    {
     "data": {
      "text/plain": [
       "0.4360846646897687"
      ]
     },
     "execution_count": 76,
     "metadata": {},
     "output_type": "execute_result"
    }
   ],
   "source": [
    "r2_score(y_test,y_pred)"
   ]
  },
  {
   "cell_type": "code",
   "execution_count": 88,
   "id": "aa60f893",
   "metadata": {},
   "outputs": [],
   "source": [
    "from sklearn.linear_model import SGDRegressor"
   ]
  },
  {
   "cell_type": "code",
   "execution_count": 89,
   "id": "2ca539cd",
   "metadata": {},
   "outputs": [],
   "source": [
    "reg=SGDRegressor(max_iter=100,learning_rate='constant',eta0=0.1)"
   ]
  },
  {
   "cell_type": "code",
   "execution_count": 90,
   "id": "2d28e8a6",
   "metadata": {},
   "outputs": [],
   "source": [
    "batch_size=35\n",
    "for i in range(100):\n",
    "    idx=random.sample(range(X_train.shape[0]),batch_size)\n",
    "    reg.partial_fit(X_train[idx],y_train[idx])"
   ]
  },
  {
   "cell_type": "code",
   "execution_count": 91,
   "id": "996565c9",
   "metadata": {},
   "outputs": [
    {
     "data": {
      "text/plain": [
       "array([  73.46560912,  -53.07909456,  346.23830761,  256.55772857,\n",
       "         18.92350684,  -27.13665399, -181.21804743,  131.36819438,\n",
       "        329.40247422,  135.84866364])"
      ]
     },
     "execution_count": 91,
     "metadata": {},
     "output_type": "execute_result"
    }
   ],
   "source": [
    "reg.coef_"
   ]
  },
  {
   "cell_type": "code",
   "execution_count": 92,
   "id": "74284b85",
   "metadata": {},
   "outputs": [
    {
     "data": {
      "text/plain": [
       "array([149.94135315])"
      ]
     },
     "execution_count": 92,
     "metadata": {},
     "output_type": "execute_result"
    }
   ],
   "source": [
    "reg.intercept_"
   ]
  },
  {
   "cell_type": "code",
   "execution_count": 93,
   "id": "734e88ce",
   "metadata": {},
   "outputs": [],
   "source": [
    "y_pred=reg.predict(X_test)"
   ]
  },
  {
   "cell_type": "code",
   "execution_count": 94,
   "id": "ebad9f1b",
   "metadata": {},
   "outputs": [
    {
     "data": {
      "text/plain": [
       "0.4269981046084502"
      ]
     },
     "execution_count": 94,
     "metadata": {},
     "output_type": "execute_result"
    }
   ],
   "source": [
    "r2_score(y_test,y_pred)"
   ]
  }
 ],
 "metadata": {
  "kernelspec": {
   "display_name": "Python 3 (ipykernel)",
   "language": "python",
   "name": "python3"
  },
  "language_info": {
   "codemirror_mode": {
    "name": "ipython",
    "version": 3
   },
   "file_extension": ".py",
   "mimetype": "text/x-python",
   "name": "python",
   "nbconvert_exporter": "python",
   "pygments_lexer": "ipython3",
   "version": "3.9.12"
  }
 },
 "nbformat": 4,
 "nbformat_minor": 5
}
